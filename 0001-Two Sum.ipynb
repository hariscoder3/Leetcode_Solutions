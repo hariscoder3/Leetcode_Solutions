{
 "cells": [
  {
   "cell_type": "code",
   "execution_count": 1,
   "id": "b5fba5a6",
   "metadata": {},
   "outputs": [],
   "source": [
    "class Solution(object):\n",
    "    def twoSum(self, nums, target):\n",
    "        # create a result named list to store the output\n",
    "        result = []\n",
    "        for i in range(len(nums)):\n",
    "            nums_copy = nums[i+1:]\n",
    "            for j in range(len(nums_copy)):\n",
    "                if nums[i] + nums_copy[j] == target:\n",
    "                    result.append(i)\n",
    "                    result.append(j + i + 1)\n",
    "                    return result\n",
    "                "
   ]
  },
  {
   "cell_type": "code",
   "execution_count": null,
   "id": "8e54fbac",
   "metadata": {},
   "outputs": [],
   "source": []
  }
 ],
 "metadata": {
  "kernelspec": {
   "display_name": "Python 3 (ipykernel)",
   "language": "python",
   "name": "python3"
  },
  "language_info": {
   "codemirror_mode": {
    "name": "ipython",
    "version": 3
   },
   "file_extension": ".py",
   "mimetype": "text/x-python",
   "name": "python",
   "nbconvert_exporter": "python",
   "pygments_lexer": "ipython3",
   "version": "3.10.9"
  }
 },
 "nbformat": 4,
 "nbformat_minor": 5
}
